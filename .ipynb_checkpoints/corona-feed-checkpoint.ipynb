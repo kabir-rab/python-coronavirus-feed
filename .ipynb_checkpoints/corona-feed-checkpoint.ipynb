{
  "cells": [
    {
      "metadata": {
        "trusted": true
      },
      "cell_type": "code",
      "source": "from datetime import datetime\nimport pandas as pd\nimport wikipedia as wp\n\n# getting execution date and time\nexecutionTime = now.strftime(\"_%d%m%Y_%H%M%S\")\nfileName = \"coronavirus_outbreak_by_country_and_territory_\"+executionTime+\".csv\"\n \n# Get the html source\ndataTable = wp.page(\"2019–20_coronavirus_outbreak_by_country_and_territory\").html().encode(\"UTF-8\")\ndf = pd.read_html(dataTable)[1]\ndf.to_csv(fileName,header=None,index=False)\nprint (df)",
      "execution_count": 39,
      "outputs": [
        {
          "output_type": "stream",
          "text": "                                                    0      1       2  \\\n0                             Country or territory[a]  Cases  Deaths   \n1                             China (mainland)[22][c]  80422    3013   \n2                                     South Korea[22]   6088      40   \n3                                           Italy[23]   3858     149   \n4                                            Iran[22]   3513     107   \n5                     International conveyance[22][d]    706       6   \n6                                         Germany[22]    543       0   \n7                                          France[22]    423       7   \n8                                           Japan[22]    360       6   \n9                                           Spain[22]    259       3   \n10                          United States[22][24][25]    206      12   \n11                                      Singapore[22]    117       0   \n12                                 United Kingdom[22]    115       1   \n13                                    Switzerland[22]    114       1   \n14                                      Hong Kong[22]    105       2   \n15                                         Sweden[22]     94       0   \n16                                         Norway[22]     87       0   \n17                                    Netherlands[22]     82       0   \n18                                         Kuwait[22]     58       0   \n19                                      Australia[26]     57       2   \n20                                        Bahrain[22]     55       0   \n21                                       Malaysia[27]     55       0   \n22                                        Belgium[22]     50       0   \n23                                       Thailand[22]     47       1   \n24                                         Taiwan[28]     44       1   \n25                                        Austria[22]     41       0   \n26                                         Canada[22]     37       0   \n27                                           Iraq[22]     35       2   \n28                                        Iceland[22]     34       0   \n29                                         Greece[22]     31       0   \n..                                                ...    ...     ...   \n61                                    New Zealand[22]      3       0   \n62                         Bosnia and Herzegovina[22]      2       0   \n63                                        Hungary[22]      2       0   \n64                                      Indonesia[22]      2       0   \n65                                        Morocco[22]      2       0   \n66                                       Slovenia[22]      2       0   \n67                                          Egypt[22]      2       0   \n68                                    Afghanistan[22]      1       0   \n69                                        Andorra[22]      1       0   \n70                                      Argentina[22]      1       0   \n71                                        Armenia[22]      1       0   \n72                             Dominican Republic[22]      1       0   \n73                                         Jordan[22]      1       0   \n74                                         Latvia[22]      1       0   \n75                                  Liechtenstein[22]      1       0   \n76                                      Lithuania[22]      1       0   \n77                                     Luxembourg[22]      1       0   \n78                                         Monaco[22]      1       0   \n79                                        Nigeria[22]      1       0   \n80                                North Macedonia[22]      1       0   \n81                                         Poland[22]      1       0   \n82                                   South Africa[22]      1       0   \n83                                        Tunisia[22]      1       0   \n84                                        Ukraine[22]      1       0   \n85                                       Cambodia[22]      1       0   \n86                                          Nepal[22]      1       0   \n87                                      Sri Lanka[22]      1       0   \n88                                     86 territories  97893    3353   \n89    As of 5 March 2020 Â· History: China, othersvte    NaN     NaN   \n90  Notes ^ Region where case was diagnosed. Natio...    NaN     NaN   \n\n                3  \n0   Recoveries[b]  \n1           52229  \n2              88  \n3             414  \n4             739  \n5             100  \n6               2  \n7              12  \n8              46  \n9               3  \n10              9  \n11             81  \n12              8  \n13              3  \n14             43  \n15              1  \n16            â  \n17            â  \n18            â  \n19             21  \n20              1  \n21             22  \n22              1  \n23             31  \n24             12  \n25              1  \n26              8  \n27            â  \n28            â  \n29            â  \n..            ...  \n61            â  \n62            â  \n63            â  \n64            â  \n65            â  \n66            â  \n67              1  \n68            â  \n69            â  \n70            â  \n71            â  \n72            â  \n73            â  \n74            â  \n75            â  \n76            â  \n77            â  \n78            â  \n79            â  \n80            â  \n81            â  \n82            â  \n83            â  \n84            â  \n85              1  \n86              1  \n87              1  \n88     53,786[22]  \n89            NaN  \n90            NaN  \n\n[91 rows x 4 columns]\n",
          "name": "stdout"
        }
      ]
    },
    {
      "metadata": {
        "trusted": true
      },
      "cell_type": "code",
      "source": "",
      "execution_count": null,
      "outputs": []
    }
  ],
  "metadata": {
    "kernelspec": {
      "name": "python36",
      "display_name": "Python 3.6",
      "language": "python"
    },
    "language_info": {
      "mimetype": "text/x-python",
      "nbconvert_exporter": "python",
      "name": "python",
      "pygments_lexer": "ipython3",
      "version": "3.6.6",
      "file_extension": ".py",
      "codemirror_mode": {
        "version": 3,
        "name": "ipython"
      }
    }
  },
  "nbformat": 4,
  "nbformat_minor": 2
}